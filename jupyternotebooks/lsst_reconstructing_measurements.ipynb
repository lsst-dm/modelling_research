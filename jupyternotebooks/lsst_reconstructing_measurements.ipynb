{
 "cells": [
  {
   "cell_type": "code",
   "execution_count": 1,
   "metadata": {
    "collapsed": true
   },
   "outputs": [],
   "source": [
    "import numpy as np\n",
    "\n",
    "from lsst.meas.base.measurementInvestigationLib import rebuildNoiseReplacer\n",
    "from lsst.daf.persistence import Butler\n",
    "\n",
    "ciHscDataPath = \"\" # Set this to the path to a ci-hsc data repository.\n",
    "ciHscDataPath = \"/ssd/nlust/repos_lsst/ci_hsc/DATA/rerun/ci_hsc/\"\n",
    "\n",
    "# Create a butler object for loading in the data.\n",
    "butler = Butler(ciHscDataPath)\n",
    "\n",
    "# Create a data Id for a single ccd.\n",
    "dataId = {\"visit\":903334, \"ccd\":16, \"filter\":\"HSC-R\"}\n",
    "\n",
    "# Load in the calibrated exposure, and the associated source catalog.\n",
    "exposure = butler.get(\"calexp\", dataId)\n",
    "srcCat = butler.get(\"src\", dataId)\n",
    "\n",
    "# Reconstruct a noise replacer from the loaded data.\n",
    "noiseReplacer = rebuildNoiseReplacer(exposure, srcCat)"
   ]
  },
  {
   "cell_type": "code",
   "execution_count": 2,
   "metadata": {
    "collapsed": true
   },
   "outputs": [],
   "source": [
    "# Continued from the above example\n",
    "from lsst.afw.table import SourceTable\n",
    "from lsst.meas.base.measurementInvestigationLib import makeRerunCatalog\n",
    "from lsst.meas.base import (SingleFrameMeasurementConfig,\n",
    "                            SingleFrameMeasurementTask)\n",
    "\n",
    "# Make a list of ids of objects to remeasure\n",
    "idsToRerun = [775958066192449538, 775958066192449539,\n",
    "              775958066192449540, 775958066192449541]\n",
    "\n",
    "# Fields to copy from old catalog, these are generally fields added outside\n",
    "# the measurement framework, that may be desirable to maintain\n",
    "fields = [\"deblend_nChild\"]\n",
    "\n",
    "# Create a new schema object, and use it to initialize a measurement task\n",
    "schema = SourceTable.makeMinimalSchema()\n",
    "\n",
    "# Configure any plugins at this stage.\n",
    "measConfig = SingleFrameMeasurementConfig()\n",
    "\n",
    "measTask = SingleFrameMeasurementTask(schema, config=measConfig)\n",
    "\n",
    "# Create a Measurement catalog containing only the ids to remeasure\n",
    "newSrcCatalog = makeRerunCatalog(schema, srcCat, idsToRerun, fields=fields)\n",
    "\n",
    "# Re-run measure on the sources selected above, using the reconstructed\n",
    "# noise replacer.\n",
    "measTask.runPlugins(noiseReplacer, newSrcCatalog, exposure)"
   ]
  },
  {
   "cell_type": "code",
   "execution_count": 3,
   "metadata": {
    "collapsed": true
   },
   "outputs": [],
   "source": [
    "# Get child objects\n",
    "parentkey = srcCat.getParentKey()\n",
    "children = np.where(srcCat[parentkey] != 0)[0]\n",
    "idsToRerun = srcCat[\"id\"][children]\n",
    "\n",
    "# Setup again\n",
    "newSrcCatalog = makeRerunCatalog(schema, srcCat, idsToRerun, fields=fields)\n",
    "noiseReplacer = rebuildNoiseReplacer(exposure, srcCat)\n",
    "\n",
    "from collections import namedtuple\n",
    "timingResult = namedtuple(\"TimingResult\",\n",
    "    ['niter', 'total', 'min', 'median', 'mean'])\n",
    "\n",
    "# Define a convenient function for timing\n",
    "def timeRunPlugins(repeat=5):\n",
    "    timer = timeit.Timer(\n",
    "        \"measTask.runPlugins(noiseReplacer, newSrcCatalog, exposure)\",\n",
    "        setup=\"from lsst.meas.base.measurementInvestigationLib \"\n",
    "              \"import rebuildNoiseReplacer;\"\n",
    "              \"noiseReplacer = rebuildNoiseReplacer(exposure, srcCat)\",\n",
    "        globals={'exposure':exposure, 'srcCat':srcCat, 'measTask': measTask,\n",
    "                'newSrcCatalog':newSrcCatalog}\n",
    "    )\n",
    "    times = timer.repeat(repeat,1)\n",
    "    result = timingResult(repeat, np.sum(times), np.min(times),\n",
    "                          np.median(times), np.mean(times))\n",
    "    return result"
   ]
  },
  {
   "cell_type": "code",
   "execution_count": 4,
   "metadata": {},
   "outputs": [
    {
     "name": "stdout",
     "output_type": "stream",
     "text": [
      "TimingResult(niter=5, total=0.063423256971873343, min=0.01260602701222524, median=0.012672623968683183, mean=0.012684651394374668)\n"
     ]
    }
   ],
   "source": [
    "import timeit\n",
    "# This runs none of the children because their parents aren't in the cat\n",
    "# It only takes some time to rebuild the noiseReplacer each iteration\n",
    "times = timeRunPlugins()\n",
    "print(times)"
   ]
  },
  {
   "cell_type": "code",
   "execution_count": 5,
   "metadata": {
    "collapsed": true
   },
   "outputs": [],
   "source": [
    "# Set parents to zero\n",
    "newSrcCatalog = makeRerunCatalog(schema, srcCat, idsToRerun,\n",
    "                                 fields=fields).copy(deep=True)\n",
    "newSrcCatalog[parentkey] = 0\n",
    "\n",
    "noiseReplacer = rebuildNoiseReplacer(exposure, srcCat)"
   ]
  },
  {
   "cell_type": "code",
   "execution_count": 6,
   "metadata": {},
   "outputs": [
    {
     "name": "stdout",
     "output_type": "stream",
     "text": [
      "TimingResult(niter=5, total=12.755932230094913, min=2.436531201004982, median=2.5271868560230359, mean=2.5511864460189826)\n"
     ]
    }
   ],
   "source": [
    "# Now it actually does something\n",
    "times = timeRunPlugins()\n",
    "print(times)"
   ]
  },
  {
   "cell_type": "code",
   "execution_count": 7,
   "metadata": {
    "collapsed": true
   },
   "outputs": [],
   "source": [
    "# Setup again\n",
    "parents = np.unique(srcCat[parentkey][children])\n",
    "idsToRerun = np.concatenate((srcCat[\"id\"][children], parents))\n",
    "\n",
    "newSrcCatalog = makeRerunCatalog(schema, srcCat, idsToRerun, fields=fields)\n",
    "# It will not run unless it's sorted by parent key\n",
    "newSrcCatalog.sort(parentkey)"
   ]
  },
  {
   "cell_type": "code",
   "execution_count": 8,
   "metadata": {},
   "outputs": [
    {
     "name": "stdout",
     "output_type": "stream",
     "text": [
      "TimingResult(niter=5, total=13.105770845082588, min=2.4320926049840637, median=2.5837718639522791, mean=2.6211541690165179)\n"
     ]
    }
   ],
   "source": [
    "# It should take slightly longer sincec it's doing parents too\n",
    "times = timeRunPlugins()\n",
    "print(times)"
   ]
  },
  {
   "cell_type": "code",
   "execution_count": 50,
   "metadata": {
    "collapsed": true
   },
   "outputs": [],
   "source": [
    "from lsst.afw.table import Schema, SourceCatalog\n",
    "from collections import Iterable\n",
    "\n",
    "def makeRerunCatalogFixed(schema, oldCatalog, idList, fields=None,\n",
    "    resetParents=True, addParents=False, addSiblings=False):\n",
    "    \"\"\" Creates a catalog prepopulated with ids\n",
    "    This function is used to generate a SourceCatalog containing blank records\n",
    "    with Ids specified in the idList parameter\n",
    "    This function is primarily used when rerunning measurements on a footprint.\n",
    "    Specifying ids in a new measurement catalog which correspond to ids in an\n",
    "    old catalog makes comparing results much easier.\n",
    "    Note that the new catalog will be sorted by id.\n",
    "    Parameters\n",
    "    ----------\n",
    "    schema : lsst.afw.table.Schema\n",
    "        Schema used to describe the fields in the resulting SourceCatalog\n",
    "    oldCatalog : lsst.afw.table.SourceCatalog\n",
    "        Catalog containing previous measurements.\n",
    "    idList : iterable\n",
    "        Python iterable whose values should be numbers corresponding to\n",
    "        measurement ids, ids must exist in the oldCatalog\n",
    "    fields : iterable\n",
    "        Python iterable whose entries should be strings corresponding to schema\n",
    "        keys that exist in both the old catalog and input schema. Fields listed\n",
    "        will be copied from the old catalog into the new catalog.\n",
    "    resetParents: boolean\n",
    "        Flag to indicate that child objects should have their parents set to 0.\n",
    "        Otherwise, lsst.meas.base.SingleFrameMeasurementTask.runPlugins() will\n",
    "        skip these ids unless their parents are also included in idList.\n",
    "    addParents: boolean\n",
    "        Flag to toggle whether parents of child objects will be added to the \n",
    "        idList (if not already present).\n",
    "\n",
    "    Returns\n",
    "    -------\n",
    "    measCat : lsst.afw.table.SourceCatalog\n",
    "        SourceCatalog prepopulated with entries corresponding to the ids\n",
    "        specified\n",
    "    \"\"\"\n",
    "    \n",
    "    if not isinstance(schema, lsst.afw.table.Schema):\n",
    "        raise RuntimeError(\"schema must be an lsst.afw.table.Schema\")\n",
    "        \n",
    "    if not isinstance(oldCatalog, lsst.afw.table.SourceCatalog):\n",
    "        raise RuntimeError(\"oldCatalog must be an \"\n",
    "                           \"lsst.afw.table.SourceCatalogiterable\")\n",
    "    \n",
    "    if fields is None:\n",
    "        fields = []\n",
    "    if not isinstance(fields, Iterable):\n",
    "        raise RuntimeError(\"fields list must be an iterable with string\"\n",
    "                           \"elements\")\n",
    "\n",
    "    for entry in fields:\n",
    "        if entry not in schema:\n",
    "            schema.addField(oldCatalog.schema.find(entry).field)\n",
    "\n",
    "    # It's likely better to convert to a list and append\n",
    "    idList = list(idList)\n",
    "            \n",
    "    if addParents:\n",
    "        lenIdList = len(idList)\n",
    "        for idx in range(lenIdList):\n",
    "            srcId = idList[idx]\n",
    "            oldSrc = oldCatalog.find(srcId)\n",
    "            parent = oldSrc.getParent()\n",
    "            if parent != 0 and not parent in idList:\n",
    "                idList.append(parent)\n",
    "\n",
    "    idList.sort()\n",
    "\n",
    "    measCat = SourceCatalog(schema)\n",
    "    for srcId in idList:\n",
    "        oldSrc = oldCatalog.find(srcId)\n",
    "        src = measCat.addNew()\n",
    "        src.setId(srcId)\n",
    "        src.setFootprint(oldSrc.getFootprint())\n",
    "        parent = oldSrc.getParent()\n",
    "        if parent != 0 and resetParents and parent not in idList:\n",
    "            parent = 0\n",
    "        src.setParent(parent)\n",
    "        src.setCoord(oldSrc.getCoord())\n",
    "        for entry in fields:\n",
    "            src[entry] = oldSrc[entry]\n",
    "        \n",
    "    return measCat"
   ]
  },
  {
   "cell_type": "code",
   "execution_count": 51,
   "metadata": {},
   "outputs": [
    {
     "name": "stdout",
     "output_type": "stream",
     "text": [
      "Old (resetParents=False):  TimingResult(niter=5, total=0.063519152987282723, min=0.011671971005853266, median=0.012413445976562798, mean=0.012703830597456545)\n",
      "New (default resetParents=True):  TimingResult(niter=5, total=12.008187707106117, min=2.2343156730057672, median=2.4208262760075741, mean=2.4016375414212234)\n",
      "New (addParents=True, resetParents=False):  TimingResult(niter=5, total=12.673463587940205, min=2.4393006400205195, median=2.4465144329587929, mean=2.5346927175880412)\n",
      "New (addParents=True, resetParents=True):  TimingResult(niter=5, total=12.618225019075908, min=2.4496690580272116, median=2.5394894990022294, mean=2.5236450038151816)\n"
     ]
    }
   ],
   "source": [
    "# So the full path of lsst.afw.table is visible\n",
    "import lsst\n",
    "\n",
    "# Assume only children again\n",
    "idsToRerun = srcCat[\"id\"][children]\n",
    "\n",
    "# What it used to do\n",
    "newSrcCatalog = makeRerunCatalogFixed(\n",
    "    schema, srcCat, idsToRerun, fields=fields, resetParents=False\n",
    ")\n",
    "print(\"Old (resetParents=False): \", timeRunPlugins())\n",
    "\n",
    "# The new default resets parents\n",
    "newSrcCatalog = makeRerunCatalogFixed(schema, srcCat, idsToRerun, fields=fields)\n",
    "print(\"New (default resetParents=True): \", timeRunPlugins())\n",
    "\n",
    "# Run the parents as well\n",
    "newSrcCatalog = makeRerunCatalogFixed(\n",
    "    schema, srcCat, idsToRerun, fields=fields, addParents=True,\n",
    "    resetParents=False\n",
    ")\n",
    "print(\"New (addParents=True, resetParents=False): \", timeRunPlugins())\n",
    "\n",
    "# This should be functionally identical while unnecessarily throwing away \n",
    "# parent information - not sure if it should be forbidden?\n",
    "newSrcCatalog = makeRerunCatalogFixed(\n",
    "    schema, srcCat, idsToRerun, fields=fields, addParents=True,\n",
    "    resetParents=True\n",
    ")\n",
    "print(\"New (addParents=True, resetParents=True): \", timeRunPlugins())"
   ]
  }
 ],
 "metadata": {
  "kernelspec": {
   "display_name": "Python 3",
   "language": "python",
   "name": "python3"
  },
  "language_info": {
   "codemirror_mode": {
    "name": "ipython",
    "version": 3
   },
   "file_extension": ".py",
   "mimetype": "text/x-python",
   "name": "python",
   "nbconvert_exporter": "python",
   "pygments_lexer": "ipython3",
   "version": "3.6.5"
  }
 },
 "nbformat": 4,
 "nbformat_minor": 2
}
