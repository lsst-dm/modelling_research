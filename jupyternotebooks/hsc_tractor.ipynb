{
 "cells": [
  {
   "cell_type": "code",
   "execution_count": null,
   "metadata": {
    "collapsed": true
   },
   "outputs": [],
   "source": [
    "# First attempt at running Tractor (https://github.com/dstndstn/tractor) on HSC-wide coadds.\n",
    "# I ended up implementing this better in an example script which I may send off as a pull request\n",
    "\n",
    "import configparser\n",
    "import fitsio\n",
    "import itertools\n",
    "import numpy as np\n",
    "import os\n",
    "import tractor\n",
    "\n",
    "import matplotlib.pyplot as plt\n",
    "\n",
    "from astrometry.util.run_command import run_command\n",
    "\n",
    "def hsc_readpass(file):\n",
    "    parser = configparser.ConfigParser(delimiters=[\" \"])\n",
    "\n",
    "    with open(file) as text:\n",
    "        text = itertools.chain((\"[top]\",), text)\n",
    "        parser.read_file(text)\n",
    "\n",
    "    return parser[\"top\"][\"User\"], parser[\"top\"][\"Password\"]\n",
    "\n",
    "\n",
    "# For how to set your login from a file, see:\n",
    "#   https://serverfault.com/questions/267470/wget-is-there-a-way-to-pass-username-and-password-from-a-file\n",
    "\n",
    "\n",
    "def hsc_wget(outfile, ra, dec, semiwidth=None, semiheight=None, getpsf=None, imgtype=None, hscfilter=None,\n",
    "             getimage=None, getmask=None, getvariance=None, rerun=None, curl=None, user=None, password=None):\n",
    "    if imgtype is None:\n",
    "        imgtype = \"coadd\"\n",
    "    if hscfilter is None:\n",
    "        hscfilter = \"HSC-R\"\n",
    "    if rerun is None:\n",
    "        rerun = \"pdr1_wide\"\n",
    "    if getimage is None:\n",
    "        getimage = True\n",
    "    if getmask is None:\n",
    "        getmask = True\n",
    "    if getvariance is None:\n",
    "        getvariance = True\n",
    "    if curl is None:\n",
    "        curl = False\n",
    "    if getpsf is None:\n",
    "        getpsf = False\n",
    "\n",
    "    values = {\n",
    "        \"ra\": ra\n",
    "        , \"dec\": dec\n",
    "        , \"type\": imgtype\n",
    "        , \"filter\": hscfilter\n",
    "        , \"rerun\": rerun\n",
    "    }\n",
    "\n",
    "    if not getpsf:\n",
    "        if semiwidth is None:\n",
    "            semiwidth = \"30asec\"\n",
    "        \n",
    "        if semiheight is None:\n",
    "            semiheight = \"30asec\"\n",
    "        \n",
    "        values[\"sw\"] = semiwidth\n",
    "        values[\"sh\"] = semiheight\n",
    "\n",
    "        if getimage:\n",
    "            values[\"image\"] = \"on\"\n",
    "\n",
    "        if getmask:\n",
    "            values[\"mask\"] = \"on\"\n",
    "\n",
    "        if getvariance:\n",
    "            values[\"variance\"] = \"on\"\n",
    "\n",
    "    flags = ['{:s}={:s}'.format(key, value) for key, value in values.items()]\n",
    "    flags = \"&\".join(flags)\n",
    "\n",
    "    url = \"https://hsc-release.mtk.nao.ac.jp/\"\n",
    "\n",
    "    if getpsf:\n",
    "        url += \"psf/pdr1/cgi/getpsf?\"\n",
    "    else:\n",
    "        url += \"das_quarry/cgi-bin/quarryImage?\"\\\n",
    "\n",
    "    url += flags\n",
    "\n",
    "    cmd = \"\"\n",
    "    if curl:\n",
    "        cmd += \"curl -n -o \"\n",
    "    else:\n",
    "        cmd += \"wget --continue -nv -O \"\n",
    "\n",
    "    fmt = \"'{:s}' '{:s}'\"\n",
    "    args = [outfile, url]\n",
    "    if user is not None:\n",
    "        fmt += \" --user '{:s}\"\n",
    "        if not curl:\n",
    "            fmt += \"'\"\n",
    "        args.append(user)\n",
    "    if password is not None:\n",
    "        if curl:\n",
    "            fmt += \":{:s}'\"\n",
    "        else:\n",
    "            fmt += \" --password '{:s}'\"\n",
    "        args.append(password)\n",
    "\n",
    "    cmd += fmt.format(*args)\n",
    "\n",
    "    (rtn, out, err) = run_command(cmd)\n",
    "    if rtn:\n",
    "        print('Command failed: command', cmd)\n",
    "        print('Output:', out)\n",
    "        print('Error:', err)\n",
    "        print('Return val:', rtn)\n",
    "        return None\n",
    "\n",
    "    return rtn\n",
    "\n"
   ]
  },
  {
   "cell_type": "code",
   "execution_count": 261,
   "metadata": {},
   "outputs": [],
   "source": [
    "#hscfile = \"/home/taranu/.hsc\"\n",
    "#user, password = hsc_readpass(hscfile)\n",
    "gid = \"G63777\"\n",
    "ra = \"216.88216861\"\n",
    "dec = \"-0.29013127\"\n",
    "semiwidth = \"30asec\"\n",
    "semiheight = semiwidth\n",
    "\n",
    "prefixg = os.path.expanduser(\"~/raid/hsc/\" + gid + \"_\")\n",
    "bandshsc = [\"HSC-\" + band for band in [\"G\", \"R\", \"I\", \"Z\", \"Y\"]]\n",
    "\n",
    "data = {}\n",
    "extensions = {\n",
    "    \"image\": \"IMAGE\"\n",
    "    , \"mask\": \"MASK\"\n",
    "    , \"variance\": \"VARIANCE\"\n",
    "}\n",
    "\n",
    "tims = []\n",
    "masks = []\n",
    "\n",
    "'''\n",
    "        Otherwise, *masks* must be a list, with length equal to the\n",
    "        number of images.  Each list element must be a dictionary with\n",
    "        Source objects for keys and ModelMask objects for values.\n",
    "        Sources that do not touch the image should not exist in the\n",
    "        dictionary; all the ModelMask objects should be non-None and\n",
    "        non-empty.\n",
    "'''\n",
    "\n",
    "\n",
    "\n",
    "galaxy = tractor.CompositeGalaxy(tractor.PixPos(180., 180.),\n",
    "    tractor.Fluxes(**dict([(band, 15.) for band in bandshsc])),\n",
    "    tractor.EllipseE(10., 0., 0.),\n",
    "    tractor.Fluxes(**dict([(band, 15.) for band in bandshsc])),\n",
    "    tractor.EllipseE(5., 0., 0.))\n",
    "\n",
    "for band in bandshsc:\n",
    "    fitsband = prefixg + \"_\".join([band, \"imgs\"]) + \".fits\"\n",
    "    if not os.path.isfile(fitsband):\n",
    "        rtn = hsc_wget(fitsband, ra, dec, semiwidth=semiwidth, semiheight=semiheight, hscfilter=band)\n",
    "    \n",
    "    fitsheader = fitsio.read_header(fitsband)\n",
    "    fitsobj = fitsio.FITS(fitsband)\n",
    "    for extension, extensionname in extensions.items():\n",
    "        if extensionname not in fitsobj:\n",
    "            raise RuntimeError(\n",
    "                \"Couldn't find {:s} extension='{:s}' in file='{:s}'\",\n",
    "                extension, extensionname, fitsband)  \n",
    "    \n",
    "    psfband = prefixg + \"_\".join([band, \"psf\"]) + \".fits\"\n",
    "    if not os.path.isfile(psfband):\n",
    "        rtn = hsc_wget(psfband, ra, dec, getpsf=True, hscfilter=band)\n",
    "   \n",
    "    psf = fitsio.read(psfband)\n",
    "    mask = fitsio.read(fitsband, ext=extensions[\"mask\"])\n",
    "    cen = [np.int(np.floor(x/2.0)) for x in mask.shape]\n",
    "    mask = mask == mask[cen[0], cen[1]]\n",
    "    variance = fitsio.read(fitsband, ext=extensions[\"variance\"])\n",
    "    \n",
    "    #wcs = \n",
    "    photocal = tractor.LinearPhotoCal(scale=fitsheader[\"FLUXMAG0\"]/1e9)\n",
    "    image = tractor.Image(\n",
    "        data=fitsio.read(fitsband, ext=extensions[\"image\"])\n",
    "        , invvar=1.0/variance\n",
    "        , inverr=1.0/np.sqrt(variance)\n",
    "        , psf=psf\n",
    "        , name='_'.join([gid, \"coadd\", band])\n",
    "    )\n",
    "    tims.append(image)\n",
    "    masks.append({galaxy: tractor.ModelMask(0, 0, mask)})"
   ]
  },
  {
   "cell_type": "code",
   "execution_count": 264,
   "metadata": {},
   "outputs": [
    {
     "name": "stderr",
     "output_type": "stream",
     "text": [
      "/usr/lib/python3.6/site-packages/ipykernel_launcher.py:3: RuntimeWarning: divide by zero encountered in log10\n  This is separate from the ipykernel package so we can avoid doing imports until\n/usr/lib/python3.6/site-packages/ipykernel_launcher.py:3: RuntimeWarning: invalid value encountered in log10\n  This is separate from the ipykernel package so we can avoid doing imports until\n"
     ]
    },
    {
     "data": {
      "image/png": "[encoded data removed]",
      "text/plain": [
       "<Figure size 432x288 with 1 Axes>"
      ]
     },
     "metadata": {},
     "output_type": "display_data"
    },
    {
     "name": "stdout",
     "output_type": "stream",
     "text": [
      "413.3505394345238\n"
     ]
    }
   ],
   "source": [
    "mask = masks[0][galaxy]\n",
    "segment = mask.mask == mask.mask[180, 180]\n",
    "plt.imshow(np.log10(tims[0].data*segment))\n",
    "pl.show()\n",
    "\n",
    "print(np.sum(tims[0].data*segment))"
   ]
  },
  {
   "cell_type": "code",
   "execution_count": 234,
   "metadata": {},
   "outputs": [
    {
     "data": {
      "text/plain": [
       "63095734448.0194"
      ]
     },
     "execution_count": 234,
     "metadata": {},
     "output_type": "execute_result"
    }
   ],
   "source": [
    "fits = fitsio.FITS(fitsband)\n",
    "fitsio.read_header(fitsband)[\"FLUXMAG0\"]"
   ]
  },
  {
   "cell_type": "code",
   "execution_count": 253,
   "metadata": {},
   "outputs": [
    {
     "data": {
      "text/plain": [
       "[{CompositeGalaxy(pos=PixPos[180.0, 180.0], brightnessExp=Fluxes[15.0, 15.0, 15.0, 15.0, 15.0], shapeExp=re=10, e1=0, e2=0, brightnessDev=Fluxes[15.0, 15.0, 15.0, 15.0, 15.0], shapeDev=re=5, e1=0, e2=0: ModelMask(0,0, mask of shape w=359, h=358)},\n {CompositeGalaxy(pos=PixPos[180.0, 180.0], brightnessExp=Fluxes[15.0, 15.0, 15.0, 15.0, 15.0], shapeExp=re=10, e1=0, e2=0, brightnessDev=Fluxes[15.0, 15.0, 15.0, 15.0, 15.0], shapeDev=re=5, e1=0, e2=0: ModelMask(0,0, mask of shape w=359, h=358)},\n {CompositeGalaxy(pos=PixPos[180.0, 180.0], brightnessExp=Fluxes[15.0, 15.0, 15.0, 15.0, 15.0], shapeExp=re=10, e1=0, e2=0, brightnessDev=Fluxes[15.0, 15.0, 15.0, 15.0, 15.0], shapeDev=re=5, e1=0, e2=0: ModelMask(0,0, mask of shape w=359, h=358)},\n {CompositeGalaxy(pos=PixPos[180.0, 180.0], brightnessExp=Fluxes[15.0, 15.0, 15.0, 15.0, 15.0], shapeExp=re=10, e1=0, e2=0, brightnessDev=Fluxes[15.0, 15.0, 15.0, 15.0, 15.0], shapeDev=re=5, e1=0, e2=0: ModelMask(0,0, mask of shape w=359, h=358)},\n {CompositeGalaxy(pos=PixPos[180.0, 180.0], brightnessExp=Fluxes[15.0, 15.0, 15.0, 15.0, 15.0], shapeExp=re=10, e1=0, e2=0, brightnessDev=Fluxes[15.0, 15.0, 15.0, 15.0, 15.0], shapeDev=re=5, e1=0, e2=0: ModelMask(0,0, mask of shape w=359, h=358)}]"
      ]
     },
     "execution_count": 253,
     "metadata": {},
     "output_type": "execute_result"
    }
   ],
   "source": [
    "masks"
   ]
  },
  {
   "cell_type": "code",
   "execution_count": 263,
   "metadata": {},
   "outputs": [
    {
     "data": {
      "text/plain": [
       "63.0957344480194"
      ]
     },
     "execution_count": 263,
     "metadata": {},
     "output_type": "execute_result"
    }
   ],
   "source": [
    "fitsheader[\"FLUXMAG0\"]/1e9"
   ]
  },
  {
   "cell_type": "code",
   "execution_count": null,
   "metadata": {},
   "outputs": [],
   "source": []
  }
 ],
 "metadata": {
  "kernelspec": {
   "display_name": "Python 2",
   "language": "python",
   "name": "python2"
  },
  "language_info": {
   "codemirror_mode": {
    "name": "ipython",
    "version": 2
   },
   "file_extension": ".py",
   "mimetype": "text/x-python",
   "name": "python",
   "nbconvert_exporter": "python",
   "pygments_lexer": "ipython2",
   "version": "2.7.6"
  }
 },
 "nbformat": 4,
 "nbformat_minor": 0
}
